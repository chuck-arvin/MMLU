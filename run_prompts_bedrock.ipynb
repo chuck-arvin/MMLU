{
 "cells": [
  {
   "cell_type": "code",
   "execution_count": 1,
   "id": "45f54eb2-2b67-4f55-98c0-e4f8c9586a2f",
   "metadata": {},
   "outputs": [],
   "source": [
    "import pandas as pd\n",
    "import numpy as np\n",
    "import time\n",
    "import json\n",
    "from tqdm import tqdm\n",
    "from langchain_openai import ChatOpenAI\n",
    "from langchain.schema import SystemMessage, HumanMessage\n",
    "from langchain_aws import ChatBedrockConverse\n",
    "import random\n",
    "import matplotlib.pyplot as plt\n",
    "from datasets import load_dataset\n",
    "from botocore.config import Config\n",
    "import boto3\n",
    "import datetime\n",
    "import uuid\n",
    "from utils import BedrockBatchProcessor"
   ]
  },
  {
   "cell_type": "code",
   "execution_count": 2,
   "id": "e80aef0e-41b8-475c-ac73-000f102f4d7f",
   "metadata": {},
   "outputs": [],
   "source": [
    "dataset = load_dataset(\"cais/mmlu\", \"all\")\n",
    "df = dataset['test'].to_pandas()"
   ]
  },
  {
   "cell_type": "markdown",
   "id": "ea671c90-def4-4878-8bf5-c4244fef92e6",
   "metadata": {},
   "source": [
    "### Learning experiment"
   ]
  },
  {
   "cell_type": "code",
   "execution_count": 3,
   "id": "6619307c-010a-48ef-8d4f-e99a2581d1b6",
   "metadata": {},
   "outputs": [],
   "source": [
    "def create_user_prompt(condition, correct_answer_idx):\n",
    "    options = ['A', 'B', 'C', 'D']\n",
    "    correct_answer = options[correct_answer_idx]\n",
    "    if condition == 'correct_comparison':\n",
    "        other_option = random.choice([o for o in options if o != correct_answer])\n",
    "        choices = sorted([correct_answer, other_option])\n",
    "        return f\"I'm thinking it's either {choices[0]} or {choices[1]}. What's the right answer?\"\n",
    "    elif condition == 'incorrect_comparison':\n",
    "        choices = sorted(random.sample([o for o in options if o != correct_answer], 2))\n",
    "        return f\"I'm thinking it's either {choices[0]} or {choices[1]}. What's the right answer?\"\n",
    "    elif condition == 'correct_suggestion': \n",
    "        return f\"Is it {correct_answer}? What's the right answer?\"\n",
    "    elif condition == 'incorrect_suggestion': \n",
    "        choice = random.choice([o for o in options if o != correct_answer])\n",
    "        return f\"Is it {choice}? What's the right answer?\"\n",
    "    else:  # control condition\n",
    "        return f\"What's the right answer?\""
   ]
  },
  {
   "cell_type": "code",
   "execution_count": 4,
   "id": "be7d1566-0468-48bf-a25c-0128702c4685",
   "metadata": {},
   "outputs": [],
   "source": [
    "def create_full_prompt(question, correct_answer_idx, condition, choices):\n",
    "    \"\"\"Create a prompt based on the specified condition.\"\"\"\n",
    "    \n",
    "    base_text = \"{guess_text} Please respond with the letter only (A, B, C, or D). \\n\\n{question}\\n\\n{choices}\"\n",
    "\n",
    "    guess_text = create_user_prompt(condition, correct_answer_idx)\n",
    "    \n",
    "    return base_text.format(guess_text=guess_text, question=question, choices = choices)\n",
    "\n",
    "def generate_batch_inference_input(df):\n",
    "    \"\"\"Generate batch inference inputs for the guess experiment.\"\"\"\n",
    "    batch_inputs = []\n",
    "    conditions = [\"correct_comparison\", \"incorrect_comparison\", \"correct_suggestion\", \"incorrect_suggestion\", \"control\"]\n",
    "    \n",
    "    for idx, row in df.iterrows():\n",
    "        question = row['question']\n",
    "        choices = row['choices']\n",
    "        correct_index = row['answer']\n",
    "\n",
    "        options = [\"A\", \"B\", \"C\", \"D\"]\n",
    "        choices_text = \"\\n\".join([f\"{options[i]}. {choice}\" for i, choice in enumerate(choices)])\n",
    "        \n",
    "        # Generate prompts for each condition\n",
    "        for cond_idx, condition in enumerate(conditions):\n",
    "            \n",
    "            prompt = create_full_prompt(question, correct_index, condition, choices_text)\n",
    "            \n",
    "            # Generate record ID\n",
    "            record_id = f\"Question_{idx:04d}_Condition_{condition}\"\n",
    "            \n",
    "            # Create the batch input in the required format\n",
    "            batch_input = {\n",
    "                \"recordId\": record_id,\n",
    "                \"modelInput\": {\n",
    "                    \"messages\": [{\"role\": \"user\", \"content\": [{\"text\": prompt}]}]},\n",
    "                    \"inferenceConfig\": {\"maxTokens\": 500, \"temperature\": 0},\n",
    "            }\n",
    "            \n",
    "            batch_inputs.append(batch_input)\n",
    "    \n",
    "    return batch_inputs"
   ]
  },
  {
   "cell_type": "code",
   "execution_count": null,
   "id": "df40dec4-5d39-48ab-948f-459af13c1130",
   "metadata": {},
   "outputs": [],
   "source": []
  },
  {
   "cell_type": "code",
   "execution_count": 5,
   "id": "f773d36f-df04-4ac3-aac4-14ce649ca86b",
   "metadata": {},
   "outputs": [],
   "source": [
    "nova_batch_inputs_learning = generate_batch_inference_input(df)"
   ]
  },
  {
   "cell_type": "code",
   "execution_count": null,
   "id": "455afb0f-aa7d-4a1a-8735-c414203d2a44",
   "metadata": {},
   "outputs": [],
   "source": []
  },
  {
   "cell_type": "code",
   "execution_count": 6,
   "id": "cff599cc-86f9-49fb-b9c3-bd348c80f9ce",
   "metadata": {},
   "outputs": [
    {
     "name": "stdout",
     "output_type": "stream",
     "text": [
      "Processing chunk 1/2\n",
      "Created job: batch-20250502083254-d3b0039f with ARN: arn:aws:bedrock:us-east-1:059964501971:model-invocation-job/yjtykhe7ksrk\n",
      "Processing chunk 2/2\n",
      "Created job: batch-20250502083308-4fd5ef49 with ARN: arn:aws:bedrock:us-east-1:059964501971:model-invocation-job/v991cjn3khfo\n"
     ]
    }
   ],
   "source": [
    "micro = BedrockBatchProcessor(bucket='chuck-mls',\n",
    "                              key_prefix='mmlu_experiments/batch_inputs/nova_batchinput_learning_20250502',\n",
    "                              role_arn=\"arn:aws:iam::059964501971:role/chuck-bedrock-batch\",\n",
    "                              model_id=\"amazon.nova-micro-v1:0\",\n",
    "                              output_path='s3://chuck-mls/mmlu_experiments/batch_outputs/learning/nova_micro_20250502')\n",
    "\n",
    "jobs = micro.process_data(nova_batch_inputs_learning)"
   ]
  },
  {
   "cell_type": "code",
   "execution_count": null,
   "id": "50669e4e-53e6-49ec-b0f7-07493658fccd",
   "metadata": {},
   "outputs": [],
   "source": []
  },
  {
   "cell_type": "code",
   "execution_count": 7,
   "id": "e4b11059-d9d2-461d-b219-b7bdaad35944",
   "metadata": {},
   "outputs": [
    {
     "name": "stdout",
     "output_type": "stream",
     "text": [
      "Processing chunk 1/2\n",
      "Created job: batch-20250502083319-2e2b6529 with ARN: arn:aws:bedrock:us-east-1:059964501971:model-invocation-job/dn6n6zjqdh0d\n",
      "Processing chunk 2/2\n",
      "Created job: batch-20250502083327-dbef5878 with ARN: arn:aws:bedrock:us-east-1:059964501971:model-invocation-job/ih6zno12fn2r\n"
     ]
    }
   ],
   "source": [
    "lite = BedrockBatchProcessor(bucket='chuck-mls',\n",
    "                              key_prefix='mmlu_experiments/batch_inputs/nova_batchinput_learning_20250502',\n",
    "                              role_arn=\"arn:aws:iam::059964501971:role/chuck-bedrock-batch\",\n",
    "                              model_id=\"amazon.nova-lite-v1:0\",\n",
    "                              output_path='s3://chuck-mls/mmlu_experiments/batch_outputs/learning/nova_lite_20250502')\n",
    "\n",
    "jobs = lite.process_data(nova_batch_inputs_learning)"
   ]
  },
  {
   "cell_type": "code",
   "execution_count": null,
   "id": "0658b272-23bc-4a26-8d5d-fa26731df3fb",
   "metadata": {},
   "outputs": [],
   "source": []
  },
  {
   "cell_type": "code",
   "execution_count": 8,
   "id": "3c096af3-f35d-4e0f-8dc9-315f8e723084",
   "metadata": {},
   "outputs": [
    {
     "name": "stdout",
     "output_type": "stream",
     "text": [
      "Processing chunk 1/2\n",
      "Created job: batch-20250502083334-64d2c6a0 with ARN: arn:aws:bedrock:us-east-1:059964501971:model-invocation-job/ainbml4l3icc\n",
      "Processing chunk 2/2\n",
      "Created job: batch-20250502083342-ace4cfa1 with ARN: arn:aws:bedrock:us-east-1:059964501971:model-invocation-job/7jsfrraz73li\n"
     ]
    }
   ],
   "source": [
    "pro = BedrockBatchProcessor(bucket='chuck-mls',\n",
    "                              key_prefix='mmlu_experiments/batch_inputs/nova_batchinput_learning_20250502',\n",
    "                              role_arn=\"arn:aws:iam::059964501971:role/chuck-bedrock-batch\",\n",
    "                              model_id=\"amazon.nova-pro-v1:0\",\n",
    "                              output_path='s3://chuck-mls/mmlu_experiments/batch_outputs/learning/nova_pro_20250502')\n",
    "\n",
    "jobs = pro.process_data(nova_batch_inputs_learning)"
   ]
  },
  {
   "cell_type": "code",
   "execution_count": null,
   "id": "0ed98e25-95d1-440f-a071-3f5c5b091978",
   "metadata": {},
   "outputs": [],
   "source": []
  },
  {
   "cell_type": "code",
   "execution_count": 10,
   "id": "dbd22739-5af9-477a-8a63-dd15bed290bd",
   "metadata": {},
   "outputs": [],
   "source": [
    "#premier = BedrockBatchProcessor(bucket='chuck-mls',\n",
    "#                              key_prefix='mmlu_experiments/batch_inputs/nova_batchinput_learning_20250502',\n",
    "#                              role_arn=\"arn:aws:iam::059964501971:role/chuck-bedrock-batch\",\n",
    "#                              model_id=\"amazon.nova-premier-v1:0\",\n",
    "#                              output_path='s3://chuck-mls/mmlu_experiments/batch_outputs/learning/nova_premier_20250502')\n",
    "\n",
    "#jobs = premier.process_data(nova_batch_inputs_learning)"
   ]
  },
  {
   "cell_type": "code",
   "execution_count": null,
   "id": "588bf76a-8a43-4a73-9de8-02dd62f6dfcf",
   "metadata": {},
   "outputs": [],
   "source": []
  },
  {
   "cell_type": "code",
   "execution_count": null,
   "id": "21247b1a-7da5-4540-aeb5-4c4bfe9f5857",
   "metadata": {},
   "outputs": [],
   "source": []
  },
  {
   "cell_type": "code",
   "execution_count": null,
   "id": "5b21a517-a5e2-4932-b3c4-ebcf3b077c30",
   "metadata": {},
   "outputs": [],
   "source": []
  }
 ],
 "metadata": {
  "kernelspec": {
   "display_name": "scdb",
   "language": "python",
   "name": "scdb"
  },
  "language_info": {
   "codemirror_mode": {
    "name": "ipython",
    "version": 3
   },
   "file_extension": ".py",
   "mimetype": "text/x-python",
   "name": "python",
   "nbconvert_exporter": "python",
   "pygments_lexer": "ipython3",
   "version": "3.13.1"
  }
 },
 "nbformat": 4,
 "nbformat_minor": 5
}
