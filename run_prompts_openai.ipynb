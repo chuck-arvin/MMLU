{
 "cells": [
  {
   "cell_type": "code",
   "execution_count": 1,
   "id": "45f54eb2-2b67-4f55-98c0-e4f8c9586a2f",
   "metadata": {},
   "outputs": [],
   "source": [
    "import pandas as pd\n",
    "import numpy as np\n",
    "import time\n",
    "import json\n",
    "from tqdm import tqdm\n",
    "import random\n",
    "import matplotlib.pyplot as plt\n",
    "from datasets import load_dataset\n",
    "import datetime\n",
    "import uuid\n",
    "from openai import OpenAI\n",
    "import time\n",
    "from openai_utils import OpenAIBatchRunner\n",
    "#from utils import BedrockBatchProcessor"
   ]
  },
  {
   "cell_type": "code",
   "execution_count": 2,
   "id": "e80aef0e-41b8-475c-ac73-000f102f4d7f",
   "metadata": {},
   "outputs": [],
   "source": [
    "dataset = load_dataset(\"cais/mmlu\", \"all\")\n",
    "df = dataset['test'].to_pandas()"
   ]
  },
  {
   "cell_type": "markdown",
   "id": "ea671c90-def4-4878-8bf5-c4244fef92e6",
   "metadata": {},
   "source": [
    "### Learning experiment"
   ]
  },
  {
   "cell_type": "code",
   "execution_count": 4,
   "id": "6619307c-010a-48ef-8d4f-e99a2581d1b6",
   "metadata": {},
   "outputs": [],
   "source": [
    "def create_user_prompt(condition, correct_answer_idx):\n",
    "    options = ['A', 'B', 'C', 'D']\n",
    "    correct_answer = options[correct_answer_idx]\n",
    "    if condition == 'correct_comparison':\n",
    "        other_option = random.choice([o for o in options if o != correct_answer])\n",
    "        choices = sorted([correct_answer, other_option])\n",
    "        return f\"I'm thinking it's either {choices[0]} or {choices[1]}. What's the right answer?\"\n",
    "    elif condition == 'incorrect_comparison':\n",
    "        choices = sorted(random.sample([o for o in options if o != correct_answer], 2))\n",
    "        return f\"I'm thinking it's either {choices[0]} or {choices[1]}. What's the right answer?\"\n",
    "    elif condition == 'correct_suggestion': \n",
    "        return f\"Is it {correct_answer}? What's the right answer?\"\n",
    "    elif condition == 'incorrect_suggestion': \n",
    "        choice = random.choice([o for o in options if o != correct_answer])\n",
    "        return f\"Is it {choice}? What's the right answer?\"\n",
    "    else:  # control condition\n",
    "        return f\"What's the right answer?\""
   ]
  },
  {
   "cell_type": "code",
   "execution_count": 5,
   "id": "be7d1566-0468-48bf-a25c-0128702c4685",
   "metadata": {},
   "outputs": [],
   "source": [
    "def create_full_prompt(question, correct_answer_idx, condition, choices):\n",
    "    \"\"\"Create a prompt based on the specified condition.\"\"\"\n",
    "    \n",
    "    base_text = \"{guess_text} Please respond with the letter only. \\n\\n{question}\\n\\n{choices}\"\n",
    "\n",
    "    guess_text = create_user_prompt(condition, correct_answer_idx)\n",
    "    \n",
    "    return base_text.format(guess_text=guess_text, question=question, choices = choices)\n",
    "\n",
    "def generate_batch_inference_input(df, model_id):\n",
    "    \"\"\"Generate batch inference inputs for the guess experiment.\"\"\"\n",
    "    batch_inputs = []\n",
    "    conditions = [\"correct_comparison\", \"incorrect_comparison\", \"correct_suggestion\", \"incorrect_suggestion\", \"control\"]\n",
    "    \n",
    "    for idx, row in df.iterrows():\n",
    "        question = row['question']\n",
    "        choices = row['choices']\n",
    "        correct_index = row['answer']\n",
    "\n",
    "        options = [\"A\", \"B\", \"C\", \"D\"]\n",
    "        choices_text = \"\\n\".join([f\"{options[i]}. {choice}\" for i, choice in enumerate(choices)])\n",
    "        \n",
    "        # Generate prompts for each condition\n",
    "        for cond_idx, condition in enumerate(conditions):\n",
    "            \n",
    "            prompt = create_full_prompt(question, correct_index, condition, choices_text)\n",
    "            \n",
    "            # Generate record ID\n",
    "            record_id = f\"Question_{idx:04d}_Condition_{condition}\"\n",
    "            \n",
    "            # Create the batch input in the required format\n",
    "            batch_input = {\n",
    "                \"custom_id\": str(record_id), \"method\": \"POST\", \"url\": \"/v1/chat/completions\",\n",
    "                \"body\": {\"model\": model_id, \n",
    "                         \"messages\": [{\"role\": \"system\", \"content\": \"You are a helpful assistant.\"},{\"role\": \"user\", \"content\": prompt}], \n",
    "                         \"max_tokens\": 500, \"temperature\": 0}\n",
    "            }\n",
    "            \n",
    "            batch_inputs.append(batch_input)\n",
    "    \n",
    "    return batch_inputs"
   ]
  },
  {
   "cell_type": "markdown",
   "id": "ad5e2402-2403-49d6-903e-cb7249dadc7f",
   "metadata": {},
   "source": [
    "### 4.1 nano"
   ]
  },
  {
   "cell_type": "code",
   "execution_count": 6,
   "id": "f773d36f-df04-4ac3-aac4-14ce649ca86b",
   "metadata": {},
   "outputs": [],
   "source": [
    "batch_inputs_learning = generate_batch_inference_input(df, 'gpt-4.1-nano-2025-04-14')"
   ]
  },
  {
   "cell_type": "code",
   "execution_count": 7,
   "id": "5648fd20-f2e5-454d-b94e-f999740da530",
   "metadata": {},
   "outputs": [
    {
     "data": {
      "text/plain": [
       "70210"
      ]
     },
     "execution_count": 7,
     "metadata": {},
     "output_type": "execute_result"
    }
   ],
   "source": [
    "len(batch_inputs_learning)"
   ]
  },
  {
   "cell_type": "code",
   "execution_count": 8,
   "id": "bed95809-e33e-4dca-90e5-23ddd6567bcf",
   "metadata": {},
   "outputs": [
    {
     "name": "stdout",
     "output_type": "stream",
     "text": [
      "Created job: Batch(id='batch_68129cce7f8c81909084abbafc074426', completion_window='24h', created_at=1746050254, endpoint='/v1/chat/completions', input_file_id='file-4BSprSQWG3zW4fVCwkxQ2S', object='batch', status='validating', cancelled_at=None, cancelling_at=None, completed_at=None, error_file_id=None, errors=None, expired_at=None, expires_at=1746136654, failed_at=None, finalizing_at=None, in_progress_at=None, metadata=None, output_file_id=None, request_counts=BatchRequestCounts(completed=0, failed=0, total=0))\n",
      "Created job: Batch(id='batch_68129cd2d1b88190ab3d6ff1a68b9df8', completion_window='24h', created_at=1746050258, endpoint='/v1/chat/completions', input_file_id='file-4fq4npCTsd2VPPuUY3Ka3q', object='batch', status='validating', cancelled_at=None, cancelling_at=None, completed_at=None, error_file_id=None, errors=None, expired_at=None, expires_at=1746136658, failed_at=None, finalizing_at=None, in_progress_at=None, metadata=None, output_file_id=None, request_counts=BatchRequestCounts(completed=0, failed=0, total=0))\n",
      "Created job: Batch(id='batch_68129cd6804c81908fa57d8ed93080ca', completion_window='24h', created_at=1746050262, endpoint='/v1/chat/completions', input_file_id='file-R3i3evZdLPvxEcBQd19YTs', object='batch', status='validating', cancelled_at=None, cancelling_at=None, completed_at=None, error_file_id=None, errors=None, expired_at=None, expires_at=1746136662, failed_at=None, finalizing_at=None, in_progress_at=None, metadata=None, output_file_id=None, request_counts=BatchRequestCounts(completed=0, failed=0, total=0))\n",
      "Created job: Batch(id='batch_68129ce0fe048190b7d08922736fe6cb', completion_window='24h', created_at=1746050272, endpoint='/v1/chat/completions', input_file_id='file-H6rdpBncEGt7PZsC4GXk6Y', object='batch', status='validating', cancelled_at=None, cancelling_at=None, completed_at=None, error_file_id=None, errors=None, expired_at=None, expires_at=1746136672, failed_at=None, finalizing_at=None, in_progress_at=None, metadata=None, output_file_id=None, request_counts=BatchRequestCounts(completed=0, failed=0, total=0))\n",
      "Created job: Batch(id='batch_68129ce84954819084b2bb7e343bf007', completion_window='24h', created_at=1746050280, endpoint='/v1/chat/completions', input_file_id='file-MGEtTAZcyXP4RMYL5Se2Ho', object='batch', status='validating', cancelled_at=None, cancelling_at=None, completed_at=None, error_file_id=None, errors=None, expired_at=None, expires_at=1746136680, failed_at=None, finalizing_at=None, in_progress_at=None, metadata=None, output_file_id=None, request_counts=BatchRequestCounts(completed=0, failed=0, total=0))\n"
     ]
    },
    {
     "data": {
      "text/plain": [
       "['batch_68129cce7f8c81909084abbafc074426',\n",
       " 'batch_68129cd2d1b88190ab3d6ff1a68b9df8',\n",
       " 'batch_68129cd6804c81908fa57d8ed93080ca',\n",
       " 'batch_68129ce0fe048190b7d08922736fe6cb',\n",
       " 'batch_68129ce84954819084b2bb7e343bf007']"
      ]
     },
     "execution_count": 8,
     "metadata": {},
     "output_type": "execute_result"
    }
   ],
   "source": [
    "o = OpenAIBatchRunner(data = batch_inputs_learning, chunk_size=15000)\n",
    "\n",
    "jobs = o.process_data()\n",
    "\n",
    "[j.id for j in jobs]"
   ]
  },
  {
   "cell_type": "code",
   "execution_count": null,
   "id": "25707aac-58e7-4e2d-97b1-920f38cca2cb",
   "metadata": {},
   "outputs": [],
   "source": []
  },
  {
   "cell_type": "markdown",
   "id": "02e7998e-3b99-4e30-866a-44707c03533e",
   "metadata": {},
   "source": [
    "### 4.1 mini"
   ]
  },
  {
   "cell_type": "code",
   "execution_count": 9,
   "id": "c8c82436-49f0-48d6-90ee-7271aa09f64b",
   "metadata": {},
   "outputs": [],
   "source": [
    "batch_inputs_learning = generate_batch_inference_input(df, 'gpt-4.1-mini-2025-04-14')"
   ]
  },
  {
   "cell_type": "code",
   "execution_count": 10,
   "id": "79907bdd-e7c5-4527-9e01-e3745a121741",
   "metadata": {},
   "outputs": [
    {
     "name": "stdout",
     "output_type": "stream",
     "text": [
      "Created job: Batch(id='batch_68129cf90c1c819081e2ecdda4b81abd', completion_window='24h', created_at=1746050297, endpoint='/v1/chat/completions', input_file_id='file-AgG3nN8545paAaJyGJ9Zgy', object='batch', status='validating', cancelled_at=None, cancelling_at=None, completed_at=None, error_file_id=None, errors=None, expired_at=None, expires_at=1746136697, failed_at=None, finalizing_at=None, in_progress_at=None, metadata=None, output_file_id=None, request_counts=BatchRequestCounts(completed=0, failed=0, total=0))\n",
      "Created job: Batch(id='batch_68129cfdcf848190a1c84c5c6f1705db', completion_window='24h', created_at=1746050301, endpoint='/v1/chat/completions', input_file_id='file-5NLg2xfRkD8nYPVv6Fhh2P', object='batch', status='validating', cancelled_at=None, cancelling_at=None, completed_at=None, error_file_id=None, errors=None, expired_at=None, expires_at=1746136701, failed_at=None, finalizing_at=None, in_progress_at=None, metadata=None, output_file_id=None, request_counts=BatchRequestCounts(completed=0, failed=0, total=0))\n",
      "Created job: Batch(id='batch_68129d014d108190a0fb33ac0c83e7a3', completion_window='24h', created_at=1746050305, endpoint='/v1/chat/completions', input_file_id='file-NG7ep4JdXJ2xjaAdx9D1oW', object='batch', status='validating', cancelled_at=None, cancelling_at=None, completed_at=None, error_file_id=None, errors=None, expired_at=None, expires_at=1746136705, failed_at=None, finalizing_at=None, in_progress_at=None, metadata=None, output_file_id=None, request_counts=BatchRequestCounts(completed=0, failed=0, total=0))\n",
      "Created job: Batch(id='batch_68129d069adc8190b89a8d825d10642b', completion_window='24h', created_at=1746050310, endpoint='/v1/chat/completions', input_file_id='file-V1EQveVjncMhhGQ9K78ayh', object='batch', status='validating', cancelled_at=None, cancelling_at=None, completed_at=None, error_file_id=None, errors=None, expired_at=None, expires_at=1746136710, failed_at=None, finalizing_at=None, in_progress_at=None, metadata=None, output_file_id=None, request_counts=BatchRequestCounts(completed=0, failed=0, total=0))\n",
      "Created job: Batch(id='batch_68129d0a15b48190ba19a104a1499153', completion_window='24h', created_at=1746050314, endpoint='/v1/chat/completions', input_file_id='file-CbsLRobmugYdG9aP6UQCKf', object='batch', status='validating', cancelled_at=None, cancelling_at=None, completed_at=None, error_file_id=None, errors=None, expired_at=None, expires_at=1746136714, failed_at=None, finalizing_at=None, in_progress_at=None, metadata=None, output_file_id=None, request_counts=BatchRequestCounts(completed=0, failed=0, total=0))\n"
     ]
    },
    {
     "data": {
      "text/plain": [
       "['batch_68129cf90c1c819081e2ecdda4b81abd',\n",
       " 'batch_68129cfdcf848190a1c84c5c6f1705db',\n",
       " 'batch_68129d014d108190a0fb33ac0c83e7a3',\n",
       " 'batch_68129d069adc8190b89a8d825d10642b',\n",
       " 'batch_68129d0a15b48190ba19a104a1499153']"
      ]
     },
     "execution_count": 10,
     "metadata": {},
     "output_type": "execute_result"
    }
   ],
   "source": [
    "o = OpenAIBatchRunner(data = batch_inputs_learning, chunk_size=15000)\n",
    "\n",
    "jobs = o.process_data()\n",
    "\n",
    "[j.id for j in jobs]"
   ]
  },
  {
   "cell_type": "code",
   "execution_count": null,
   "id": "b94bf97c-499a-4a2d-8fd8-aec391682bef",
   "metadata": {},
   "outputs": [],
   "source": []
  },
  {
   "cell_type": "markdown",
   "id": "ef1196bb-11bf-4cd1-ad2d-ac5383e146a0",
   "metadata": {},
   "source": [
    "### 4.1"
   ]
  },
  {
   "cell_type": "code",
   "execution_count": 11,
   "id": "f2c4af40-edd6-4ee3-a82f-f21cafa31969",
   "metadata": {},
   "outputs": [],
   "source": [
    "batch_inputs_learning = generate_batch_inference_input(df, 'gpt-4.1-2025-04-14')"
   ]
  },
  {
   "cell_type": "code",
   "execution_count": 12,
   "id": "c9f3e560-58b5-4670-8085-948c202f8287",
   "metadata": {},
   "outputs": [
    {
     "name": "stdout",
     "output_type": "stream",
     "text": [
      "Created job: Batch(id='batch_68129d1113008190be68b51b81619128', completion_window='24h', created_at=1746050321, endpoint='/v1/chat/completions', input_file_id='file-81ju3xMqpB7QRiepTDXtAF', object='batch', status='validating', cancelled_at=None, cancelling_at=None, completed_at=None, error_file_id=None, errors=None, expired_at=None, expires_at=1746136721, failed_at=None, finalizing_at=None, in_progress_at=None, metadata=None, output_file_id=None, request_counts=BatchRequestCounts(completed=0, failed=0, total=0))\n",
      "Created job: Batch(id='batch_68129d1548288190b538c1fabfe216e3', completion_window='24h', created_at=1746050325, endpoint='/v1/chat/completions', input_file_id='file-1WgAybS2kZNQDoQuHzpo3P', object='batch', status='validating', cancelled_at=None, cancelling_at=None, completed_at=None, error_file_id=None, errors=None, expired_at=None, expires_at=1746136725, failed_at=None, finalizing_at=None, in_progress_at=None, metadata=None, output_file_id=None, request_counts=BatchRequestCounts(completed=0, failed=0, total=0))\n",
      "Created job: Batch(id='batch_68129d1955908190aa1b31b6258f0788', completion_window='24h', created_at=1746050329, endpoint='/v1/chat/completions', input_file_id='file-SPwZiunec54fXGy5msj5cu', object='batch', status='validating', cancelled_at=None, cancelling_at=None, completed_at=None, error_file_id=None, errors=None, expired_at=None, expires_at=1746136729, failed_at=None, finalizing_at=None, in_progress_at=None, metadata=None, output_file_id=None, request_counts=BatchRequestCounts(completed=0, failed=0, total=0))\n",
      "Attempt 1 failed for chunk 4. Retrying in 1 seconds. Error: Connection error.\n",
      "Attempt 2 failed for chunk 4. Retrying in 2 seconds. Error: Connection error.\n",
      "Created job: Batch(id='batch_68129d2f5fe881908c2fa47440ce3610', completion_window='24h', created_at=1746050351, endpoint='/v1/chat/completions', input_file_id='file-CVgoKfKAhvhiWEksj2Enfj', object='batch', status='validating', cancelled_at=None, cancelling_at=None, completed_at=None, error_file_id=None, errors=None, expired_at=None, expires_at=1746136751, failed_at=None, finalizing_at=None, in_progress_at=None, metadata=None, output_file_id=None, request_counts=BatchRequestCounts(completed=0, failed=0, total=0))\n",
      "Created job: Batch(id='batch_68129d331a0c8190931260c82d3266d8', completion_window='24h', created_at=1746050355, endpoint='/v1/chat/completions', input_file_id='file-PhmiuGtWcNMV5zdgcMnuGs', object='batch', status='validating', cancelled_at=None, cancelling_at=None, completed_at=None, error_file_id=None, errors=None, expired_at=None, expires_at=1746136755, failed_at=None, finalizing_at=None, in_progress_at=None, metadata=None, output_file_id=None, request_counts=BatchRequestCounts(completed=0, failed=0, total=0))\n"
     ]
    },
    {
     "data": {
      "text/plain": [
       "['batch_68129d1113008190be68b51b81619128',\n",
       " 'batch_68129d1548288190b538c1fabfe216e3',\n",
       " 'batch_68129d1955908190aa1b31b6258f0788',\n",
       " 'batch_68129d2f5fe881908c2fa47440ce3610',\n",
       " 'batch_68129d331a0c8190931260c82d3266d8']"
      ]
     },
     "execution_count": 12,
     "metadata": {},
     "output_type": "execute_result"
    }
   ],
   "source": [
    "o = OpenAIBatchRunner(data = batch_inputs_learning, chunk_size=15000)\n",
    "\n",
    "jobs = o.process_data()\n",
    "\n",
    "[j.id for j in jobs]"
   ]
  },
  {
   "cell_type": "code",
   "execution_count": null,
   "id": "21247b1a-7da5-4540-aeb5-4c4bfe9f5857",
   "metadata": {},
   "outputs": [],
   "source": []
  },
  {
   "cell_type": "code",
   "execution_count": null,
   "id": "5b21a517-a5e2-4932-b3c4-ebcf3b077c30",
   "metadata": {},
   "outputs": [],
   "source": []
  }
 ],
 "metadata": {
  "kernelspec": {
   "display_name": "scdb",
   "language": "python",
   "name": "scdb"
  },
  "language_info": {
   "codemirror_mode": {
    "name": "ipython",
    "version": 3
   },
   "file_extension": ".py",
   "mimetype": "text/x-python",
   "name": "python",
   "nbconvert_exporter": "python",
   "pygments_lexer": "ipython3",
   "version": "3.13.1"
  }
 },
 "nbformat": 4,
 "nbformat_minor": 5
}
